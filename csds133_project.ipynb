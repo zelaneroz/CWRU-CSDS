{
  "nbformat": 4,
  "nbformat_minor": 0,
  "metadata": {
    "colab": {
      "provenance": [],
      "authorship_tag": "ABX9TyPrpOhFp4trNnRTEIkiudoi",
      "include_colab_link": true
    },
    "kernelspec": {
      "name": "python3",
      "display_name": "Python 3"
    },
    "language_info": {
      "name": "python"
    }
  },
  "cells": [
    {
      "cell_type": "markdown",
      "metadata": {
        "id": "view-in-github",
        "colab_type": "text"
      },
      "source": [
        "<a href=\"https://colab.research.google.com/github/zelaneroz/cwru-csds-coursework/blob/main/csds133_project.ipynb\" target=\"_parent\"><img src=\"https://colab.research.google.com/assets/colab-badge.svg\" alt=\"Open In Colab\"/></a>"
      ]
    },
    {
      "cell_type": "code",
      "execution_count": 1,
      "metadata": {
        "colab": {
          "base_uri": "https://localhost:8080/"
        },
        "id": "aFBhjSo0R_O6",
        "outputId": "bcd53845-9fb4-4e56-c51b-1bd2aad4dd2e"
      },
      "outputs": [
        {
          "output_type": "stream",
          "name": "stdout",
          "text": [
            "Path to dataset files: /root/.cache/kagglehub/datasets/mohithsairamreddy/salary-data/versions/4\n"
          ]
        }
      ],
      "source": [
        "import kagglehub\n",
        "\n",
        "# Download latest version\n",
        "path = kagglehub.dataset_download(\"mohithsairamreddy/salary-data\")\n",
        "\n",
        "print(\"Path to dataset files:\", path)"
      ]
    },
    {
      "cell_type": "code",
      "source": [
        "import pandas as pd\n",
        "import os\n",
        "import numpy as np\n",
        "import matplotlib.pyplot as plt\n",
        "import seaborn as sns\n",
        "import scipy\n",
        "from scipy import stats"
      ],
      "metadata": {
        "id": "TQ2pTxFbTsBn"
      },
      "execution_count": 2,
      "outputs": []
    },
    {
      "cell_type": "code",
      "source": [
        "files = os.listdir(path)\n",
        "csv_file = [f for f in files if f.endswith('.csv')][0]  # Finds the first CSV file\n",
        "csv_path = os.path.join(path, csv_file)\n",
        "df = pd.read_csv(csv_path)"
      ],
      "metadata": {
        "id": "L1Jl92R7T0ec"
      },
      "execution_count": 3,
      "outputs": []
    },
    {
      "cell_type": "markdown",
      "source": [
        "# I. Data Exploration & Preprocessing"
      ],
      "metadata": {
        "id": "PA8uslLeT6Cv"
      }
    },
    {
      "cell_type": "markdown",
      "source": [
        "## A. Initial Exploration"
      ],
      "metadata": {
        "id": "oHxOiByUXbNi"
      }
    },
    {
      "cell_type": "markdown",
      "source": [
        "Using the code below, we gathered the following information:\n",
        "\n",
        "\n",
        "*   6704 rows, 6 columns\n",
        "*   Columns: \\[Age, Gender Education, Level, Job Title, Years of Experience]\n",
        "* 2 rows are empty\n",
        "* Found the number of missing values per column\n",
        "* Summary Statistis for each column\n",
        "* Unique Values for Columns 'Education' and 'Job Title'\n"
      ],
      "metadata": {
        "id": "kS-kPwvdXxWb"
      }
    },
    {
      "cell_type": "code",
      "source": [
        "# Load dataset (update with actual file path)\n",
        "# 1️⃣ Check the first few rows\n",
        "print(\"📌 First 5 Rows:\")\n",
        "print(df.head(), \"\\n\")\n",
        "\n",
        "# 2️⃣ Check the number of rows and columns\n",
        "print(\"📌 Shape of the dataset (rows, columns):\", df.shape, \"\\n\")\n",
        "\n",
        "# 3️⃣ Get column names\n",
        "print(\"📌 Column Names:\")\n",
        "print(df.columns, \"\\n\")\n",
        "\n",
        "# 4️⃣ Get basic info about dataset (data types, non-null counts, memory usage)\n",
        "print(\"📌 Dataset Information:\")\n",
        "print(df.info(), \"\\n\")"
      ],
      "metadata": {
        "id": "WyeKVZTsT6_X",
        "colab": {
          "base_uri": "https://localhost:8080/"
        },
        "outputId": "e4ed53c3-1045-4418-f4c6-3a78851e42c9"
      },
      "execution_count": 4,
      "outputs": [
        {
          "output_type": "stream",
          "name": "stdout",
          "text": [
            "📌 First 5 Rows:\n",
            "    Age  Gender Education Level          Job Title  Years of Experience  \\\n",
            "0  32.0    Male      Bachelor's  Software Engineer                  5.0   \n",
            "1  28.0  Female        Master's       Data Analyst                  3.0   \n",
            "2  45.0    Male             PhD     Senior Manager                 15.0   \n",
            "3  36.0  Female      Bachelor's    Sales Associate                  7.0   \n",
            "4  52.0    Male        Master's           Director                 20.0   \n",
            "\n",
            "     Salary  \n",
            "0   90000.0  \n",
            "1   65000.0  \n",
            "2  150000.0  \n",
            "3   60000.0  \n",
            "4  200000.0   \n",
            "\n",
            "📌 Shape of the dataset (rows, columns): (6704, 6) \n",
            "\n",
            "📌 Column Names:\n",
            "Index(['Age', 'Gender', 'Education Level', 'Job Title', 'Years of Experience',\n",
            "       'Salary'],\n",
            "      dtype='object') \n",
            "\n",
            "📌 Dataset Information:\n",
            "<class 'pandas.core.frame.DataFrame'>\n",
            "RangeIndex: 6704 entries, 0 to 6703\n",
            "Data columns (total 6 columns):\n",
            " #   Column               Non-Null Count  Dtype  \n",
            "---  ------               --------------  -----  \n",
            " 0   Age                  6702 non-null   float64\n",
            " 1   Gender               6702 non-null   object \n",
            " 2   Education Level      6701 non-null   object \n",
            " 3   Job Title            6702 non-null   object \n",
            " 4   Years of Experience  6701 non-null   float64\n",
            " 5   Salary               6699 non-null   float64\n",
            "dtypes: float64(3), object(3)\n",
            "memory usage: 314.4+ KB\n",
            "None \n",
            "\n"
          ]
        }
      ]
    },
    {
      "cell_type": "code",
      "source": [
        "# 5️⃣ Check for missing values\n",
        "print(\"📌 Missing Values Per Column:\")\n",
        "print(df.isnull().sum(), \"\\n\")\n",
        "\n",
        "# 6️⃣ Count completely empty rows\n",
        "print(\"📌 Number of Fully Empty Rows:\", df.isnull().all(axis=1).sum(), \"\\n\")\n",
        "\n",
        "# 7️⃣ Summary statistics for numerical columns\n",
        "print(\"📌 Summary Statistics for Numerical Columns:\")\n",
        "print(df.describe(), \"\\n\")\n",
        "\n",
        "# 8️⃣ Summary statistics for categorical columns\n",
        "print(\"📌 Summary Statistics for Categorical Columns:\")\n",
        "print(df.describe(include=['object']), \"\\n\")\n",
        "\n",
        "# 9️⃣ Check unique values in categorical columns (adjust column names as needed)\n",
        "categorical_cols = ['Gender', 'Education Level', 'Job Title']  # Adjust these column names as necessary\n",
        "for col in categorical_cols:\n",
        "    if col in df.columns:\n",
        "        print(f\"📌 Unique values in '{col}':\")\n",
        "        print(df[col].value_counts(), \"\\n\")"
      ],
      "metadata": {
        "colab": {
          "base_uri": "https://localhost:8080/"
        },
        "id": "0w2SMEzrWOVb",
        "outputId": "d4800373-18cc-419d-ca00-7232507681e0"
      },
      "execution_count": 5,
      "outputs": [
        {
          "output_type": "stream",
          "name": "stdout",
          "text": [
            "📌 Missing Values Per Column:\n",
            "Age                    2\n",
            "Gender                 2\n",
            "Education Level        3\n",
            "Job Title              2\n",
            "Years of Experience    3\n",
            "Salary                 5\n",
            "dtype: int64 \n",
            "\n",
            "📌 Number of Fully Empty Rows: 2 \n",
            "\n",
            "📌 Summary Statistics for Numerical Columns:\n",
            "               Age  Years of Experience         Salary\n",
            "count  6702.000000          6701.000000    6699.000000\n",
            "mean     33.620859             8.094687  115326.964771\n",
            "std       7.614633             6.059003   52786.183911\n",
            "min      21.000000             0.000000     350.000000\n",
            "25%      28.000000             3.000000   70000.000000\n",
            "50%      32.000000             7.000000  115000.000000\n",
            "75%      38.000000            12.000000  160000.000000\n",
            "max      62.000000            34.000000  250000.000000 \n",
            "\n",
            "📌 Summary Statistics for Categorical Columns:\n",
            "       Gender    Education Level          Job Title\n",
            "count    6702               6701               6702\n",
            "unique      3                  7                193\n",
            "top      Male  Bachelor's Degree  Software Engineer\n",
            "freq     3674               2267                518 \n",
            "\n",
            "📌 Unique values in 'Gender':\n",
            "Gender\n",
            "Male      3674\n",
            "Female    3014\n",
            "Other       14\n",
            "Name: count, dtype: int64 \n",
            "\n",
            "📌 Unique values in 'Education Level':\n",
            "Education Level\n",
            "Bachelor's Degree    2267\n",
            "Master's Degree      1573\n",
            "PhD                  1368\n",
            "Bachelor's            756\n",
            "High School           448\n",
            "Master's              288\n",
            "phD                     1\n",
            "Name: count, dtype: int64 \n",
            "\n",
            "📌 Unique values in 'Job Title':\n",
            "Job Title\n",
            "Software Engineer                 518\n",
            "Data Scientist                    453\n",
            "Software Engineer Manager         376\n",
            "Data Analyst                      363\n",
            "Senior Project Engineer           318\n",
            "                                 ... \n",
            "Junior Social Media Specialist      1\n",
            "Senior Software Architect           1\n",
            "Developer                           1\n",
            "Social M                            1\n",
            "Social Media Man                    1\n",
            "Name: count, Length: 193, dtype: int64 \n",
            "\n"
          ]
        }
      ]
    },
    {
      "cell_type": "markdown",
      "source": [
        "## B. Data Cleaning"
      ],
      "metadata": {
        "id": "E0tbMU1YXed2"
      }
    },
    {
      "cell_type": "markdown",
      "source": [
        "From the information gathered from data exploration, we perform the following to clean the data:\n",
        "\n",
        "*   Remove rows where all columns are empty.\n",
        "*   Removes rows where at least one column has missing data.\n",
        "*   Reset the index to maintain a clean dataset.\n"
      ],
      "metadata": {
        "id": "MtwlFDJGXgSB"
      }
    },
    {
      "cell_type": "code",
      "source": [
        "print(\"Original Dataset Shape:\", df.shape)\n",
        "# Drop fully empty rows (where all columns are NaN)\n",
        "df = df.dropna(how='all')\n",
        "\n",
        "# Drop rows where at least one column has missing values\n",
        "df = df.dropna(how='any')\n",
        "\n",
        "# Reset index after dropping rows\n",
        "df = df.reset_index(drop=True)\n",
        "\n",
        "# Display new shape of the dataset\n",
        "print(\"Updated Dataset Shape:\", df.shape)\n"
      ],
      "metadata": {
        "colab": {
          "base_uri": "https://localhost:8080/"
        },
        "id": "orqQryrNXf7S",
        "outputId": "dc567abf-ba21-4d03-ed4e-9f7f0a79c657"
      },
      "execution_count": 6,
      "outputs": [
        {
          "output_type": "stream",
          "name": "stdout",
          "text": [
            "Original Dataset Shape: (6704, 6)\n",
            "Updated Dataset Shape: (6698, 6)\n"
          ]
        }
      ]
    },
    {
      "cell_type": "markdown",
      "source": [
        "## C. Data Standardization"
      ],
      "metadata": {
        "id": "dS9Wm3hxaalt"
      }
    },
    {
      "cell_type": "markdown",
      "source": [
        "**Standardize Gender Column**"
      ],
      "metadata": {
        "id": "IK5aWKjsa9Ir"
      }
    },
    {
      "cell_type": "code",
      "source": [
        "# Convert to lowercase and strip spaces\n",
        "df['Gender'] = df['Gender'].str.strip().str.lower()\n",
        "\n",
        "# Map different variations to standard values\n",
        "gender_map = {\n",
        "    'male': 'Male', 'm': 'Male', 'man': 'Male', 'boy': 'Male',\n",
        "    'female': 'Female', 'f': 'Female', 'woman': 'Female', 'girl': 'Female'\n",
        "}\n",
        "df['Gender'] = df['Gender'].map(gender_map)\n",
        "\n",
        "# Ensure only valid values remain\n",
        "df = df[df['Gender'].isin(['Male', 'Female'])]"
      ],
      "metadata": {
        "id": "33xoJastY8EC"
      },
      "execution_count": 7,
      "outputs": []
    },
    {
      "cell_type": "markdown",
      "source": [
        "**Convert Columns to Numeric**"
      ],
      "metadata": {
        "id": "gkhbuKf4bHzQ"
      }
    },
    {
      "cell_type": "code",
      "source": [
        "df['Years of Experience'] = pd.to_numeric(df['Years of Experience'], errors='coerce')\n",
        "df['Salary'] = pd.to_numeric(df['Salary'], errors='coerce')"
      ],
      "metadata": {
        "id": "vHSSVekmbBBu"
      },
      "execution_count": 8,
      "outputs": []
    },
    {
      "cell_type": "markdown",
      "source": [
        "**Handle Salary Outliers**"
      ],
      "metadata": {
        "id": "uzk2jpa-bOz8"
      }
    },
    {
      "cell_type": "code",
      "source": [
        "# Remove outliers using **IQR filtering**\n",
        "Q1 = df['Salary'].quantile(0.25)\n",
        "Q3 = df['Salary'].quantile(0.75)\n",
        "IQR = Q3 - Q1\n",
        "df = df[(df['Salary'] >= Q1 - 1.5 * IQR) & (df['Salary'] <= Q3 + 1.5 * IQR)]"
      ],
      "metadata": {
        "id": "JpcN1P0mbMsE"
      },
      "execution_count": 9,
      "outputs": []
    },
    {
      "cell_type": "code",
      "source": [
        "# Store original number of rows before filtering\n",
        "original_rows = df.shape[0]\n",
        "\n",
        "# Compute IQR\n",
        "Q1 = df['Salary'].quantile(0.25)\n",
        "Q3 = df['Salary'].quantile(0.75)\n",
        "IQR = Q3 - Q1\n",
        "\n",
        "# Identify outliers before removing them\n",
        "outliers = df[(df['Salary'] < Q1 - 1.5 * IQR) | (df['Salary'] > Q3 + 1.5 * IQR)]\n",
        "\n",
        "# Remove outliers\n",
        "df_cleaned = df[(df['Salary'] >= Q1 - 1.5 * IQR) & (df['Salary'] <= Q3 + 1.5 * IQR)]\n",
        "\n",
        "# Store new number of rows after filtering\n",
        "new_rows = df_cleaned.shape[0]\n",
        "\n",
        "# Print summary of changes\n",
        "print(f\"✅ Original dataset had {original_rows} rows.\")\n",
        "print(f\"✅ After IQR filtering, {new_rows} rows remain.\")\n",
        "print(f\"🚨 {original_rows - new_rows} outliers were removed.\")\n",
        "\n",
        "# Print removed outlier rows (if any)\n",
        "if not outliers.empty:\n",
        "    print(\"\\n📌 Removed Outliers (Salary Outliers Detected):\")\n",
        "    print(outliers)\n",
        "else:\n",
        "    print(\"\\n✅ No outliers detected based on IQR filtering.\")\n",
        "\n",
        "# Save cleaned dataset\n",
        "df_cleaned.to_csv(\"cleaned_dataset.csv\", index=False)\n"
      ],
      "metadata": {
        "id": "H5VsGFK3byua",
        "outputId": "55969d58-91ab-435a-ec06-9b5dd02a6657",
        "colab": {
          "base_uri": "https://localhost:8080/"
        }
      },
      "execution_count": 10,
      "outputs": [
        {
          "output_type": "stream",
          "name": "stdout",
          "text": [
            "✅ Original dataset had 6684 rows.\n",
            "✅ After IQR filtering, 6684 rows remain.\n",
            "🚨 0 outliers were removed.\n",
            "\n",
            "✅ No outliers detected based on IQR filtering.\n"
          ]
        }
      ]
    },
    {
      "cell_type": "code",
      "source": [
        "df.head()"
      ],
      "metadata": {
        "id": "5DYgbqY4bTlZ",
        "outputId": "e0733fb0-31b0-4f22-ee59-cd177b28490c",
        "colab": {
          "base_uri": "https://localhost:8080/",
          "height": 206
        }
      },
      "execution_count": 11,
      "outputs": [
        {
          "output_type": "execute_result",
          "data": {
            "text/plain": [
              "    Age  Gender Education Level          Job Title  Years of Experience  \\\n",
              "0  32.0    Male      Bachelor's  Software Engineer                  5.0   \n",
              "1  28.0  Female        Master's       Data Analyst                  3.0   \n",
              "2  45.0    Male             PhD     Senior Manager                 15.0   \n",
              "3  36.0  Female      Bachelor's    Sales Associate                  7.0   \n",
              "4  52.0    Male        Master's           Director                 20.0   \n",
              "\n",
              "     Salary  \n",
              "0   90000.0  \n",
              "1   65000.0  \n",
              "2  150000.0  \n",
              "3   60000.0  \n",
              "4  200000.0  "
            ],
            "text/html": [
              "\n",
              "  <div id=\"df-45ac4c30-7c62-4154-805a-e0577a387e80\" class=\"colab-df-container\">\n",
              "    <div>\n",
              "<style scoped>\n",
              "    .dataframe tbody tr th:only-of-type {\n",
              "        vertical-align: middle;\n",
              "    }\n",
              "\n",
              "    .dataframe tbody tr th {\n",
              "        vertical-align: top;\n",
              "    }\n",
              "\n",
              "    .dataframe thead th {\n",
              "        text-align: right;\n",
              "    }\n",
              "</style>\n",
              "<table border=\"1\" class=\"dataframe\">\n",
              "  <thead>\n",
              "    <tr style=\"text-align: right;\">\n",
              "      <th></th>\n",
              "      <th>Age</th>\n",
              "      <th>Gender</th>\n",
              "      <th>Education Level</th>\n",
              "      <th>Job Title</th>\n",
              "      <th>Years of Experience</th>\n",
              "      <th>Salary</th>\n",
              "    </tr>\n",
              "  </thead>\n",
              "  <tbody>\n",
              "    <tr>\n",
              "      <th>0</th>\n",
              "      <td>32.0</td>\n",
              "      <td>Male</td>\n",
              "      <td>Bachelor's</td>\n",
              "      <td>Software Engineer</td>\n",
              "      <td>5.0</td>\n",
              "      <td>90000.0</td>\n",
              "    </tr>\n",
              "    <tr>\n",
              "      <th>1</th>\n",
              "      <td>28.0</td>\n",
              "      <td>Female</td>\n",
              "      <td>Master's</td>\n",
              "      <td>Data Analyst</td>\n",
              "      <td>3.0</td>\n",
              "      <td>65000.0</td>\n",
              "    </tr>\n",
              "    <tr>\n",
              "      <th>2</th>\n",
              "      <td>45.0</td>\n",
              "      <td>Male</td>\n",
              "      <td>PhD</td>\n",
              "      <td>Senior Manager</td>\n",
              "      <td>15.0</td>\n",
              "      <td>150000.0</td>\n",
              "    </tr>\n",
              "    <tr>\n",
              "      <th>3</th>\n",
              "      <td>36.0</td>\n",
              "      <td>Female</td>\n",
              "      <td>Bachelor's</td>\n",
              "      <td>Sales Associate</td>\n",
              "      <td>7.0</td>\n",
              "      <td>60000.0</td>\n",
              "    </tr>\n",
              "    <tr>\n",
              "      <th>4</th>\n",
              "      <td>52.0</td>\n",
              "      <td>Male</td>\n",
              "      <td>Master's</td>\n",
              "      <td>Director</td>\n",
              "      <td>20.0</td>\n",
              "      <td>200000.0</td>\n",
              "    </tr>\n",
              "  </tbody>\n",
              "</table>\n",
              "</div>\n",
              "    <div class=\"colab-df-buttons\">\n",
              "\n",
              "  <div class=\"colab-df-container\">\n",
              "    <button class=\"colab-df-convert\" onclick=\"convertToInteractive('df-45ac4c30-7c62-4154-805a-e0577a387e80')\"\n",
              "            title=\"Convert this dataframe to an interactive table.\"\n",
              "            style=\"display:none;\">\n",
              "\n",
              "  <svg xmlns=\"http://www.w3.org/2000/svg\" height=\"24px\" viewBox=\"0 -960 960 960\">\n",
              "    <path d=\"M120-120v-720h720v720H120Zm60-500h600v-160H180v160Zm220 220h160v-160H400v160Zm0 220h160v-160H400v160ZM180-400h160v-160H180v160Zm440 0h160v-160H620v160ZM180-180h160v-160H180v160Zm440 0h160v-160H620v160Z\"/>\n",
              "  </svg>\n",
              "    </button>\n",
              "\n",
              "  <style>\n",
              "    .colab-df-container {\n",
              "      display:flex;\n",
              "      gap: 12px;\n",
              "    }\n",
              "\n",
              "    .colab-df-convert {\n",
              "      background-color: #E8F0FE;\n",
              "      border: none;\n",
              "      border-radius: 50%;\n",
              "      cursor: pointer;\n",
              "      display: none;\n",
              "      fill: #1967D2;\n",
              "      height: 32px;\n",
              "      padding: 0 0 0 0;\n",
              "      width: 32px;\n",
              "    }\n",
              "\n",
              "    .colab-df-convert:hover {\n",
              "      background-color: #E2EBFA;\n",
              "      box-shadow: 0px 1px 2px rgba(60, 64, 67, 0.3), 0px 1px 3px 1px rgba(60, 64, 67, 0.15);\n",
              "      fill: #174EA6;\n",
              "    }\n",
              "\n",
              "    .colab-df-buttons div {\n",
              "      margin-bottom: 4px;\n",
              "    }\n",
              "\n",
              "    [theme=dark] .colab-df-convert {\n",
              "      background-color: #3B4455;\n",
              "      fill: #D2E3FC;\n",
              "    }\n",
              "\n",
              "    [theme=dark] .colab-df-convert:hover {\n",
              "      background-color: #434B5C;\n",
              "      box-shadow: 0px 1px 3px 1px rgba(0, 0, 0, 0.15);\n",
              "      filter: drop-shadow(0px 1px 2px rgba(0, 0, 0, 0.3));\n",
              "      fill: #FFFFFF;\n",
              "    }\n",
              "  </style>\n",
              "\n",
              "    <script>\n",
              "      const buttonEl =\n",
              "        document.querySelector('#df-45ac4c30-7c62-4154-805a-e0577a387e80 button.colab-df-convert');\n",
              "      buttonEl.style.display =\n",
              "        google.colab.kernel.accessAllowed ? 'block' : 'none';\n",
              "\n",
              "      async function convertToInteractive(key) {\n",
              "        const element = document.querySelector('#df-45ac4c30-7c62-4154-805a-e0577a387e80');\n",
              "        const dataTable =\n",
              "          await google.colab.kernel.invokeFunction('convertToInteractive',\n",
              "                                                    [key], {});\n",
              "        if (!dataTable) return;\n",
              "\n",
              "        const docLinkHtml = 'Like what you see? Visit the ' +\n",
              "          '<a target=\"_blank\" href=https://colab.research.google.com/notebooks/data_table.ipynb>data table notebook</a>'\n",
              "          + ' to learn more about interactive tables.';\n",
              "        element.innerHTML = '';\n",
              "        dataTable['output_type'] = 'display_data';\n",
              "        await google.colab.output.renderOutput(dataTable, element);\n",
              "        const docLink = document.createElement('div');\n",
              "        docLink.innerHTML = docLinkHtml;\n",
              "        element.appendChild(docLink);\n",
              "      }\n",
              "    </script>\n",
              "  </div>\n",
              "\n",
              "\n",
              "<div id=\"df-21f8ff30-5086-4ed4-bf67-e98994d17628\">\n",
              "  <button class=\"colab-df-quickchart\" onclick=\"quickchart('df-21f8ff30-5086-4ed4-bf67-e98994d17628')\"\n",
              "            title=\"Suggest charts\"\n",
              "            style=\"display:none;\">\n",
              "\n",
              "<svg xmlns=\"http://www.w3.org/2000/svg\" height=\"24px\"viewBox=\"0 0 24 24\"\n",
              "     width=\"24px\">\n",
              "    <g>\n",
              "        <path d=\"M19 3H5c-1.1 0-2 .9-2 2v14c0 1.1.9 2 2 2h14c1.1 0 2-.9 2-2V5c0-1.1-.9-2-2-2zM9 17H7v-7h2v7zm4 0h-2V7h2v10zm4 0h-2v-4h2v4z\"/>\n",
              "    </g>\n",
              "</svg>\n",
              "  </button>\n",
              "\n",
              "<style>\n",
              "  .colab-df-quickchart {\n",
              "      --bg-color: #E8F0FE;\n",
              "      --fill-color: #1967D2;\n",
              "      --hover-bg-color: #E2EBFA;\n",
              "      --hover-fill-color: #174EA6;\n",
              "      --disabled-fill-color: #AAA;\n",
              "      --disabled-bg-color: #DDD;\n",
              "  }\n",
              "\n",
              "  [theme=dark] .colab-df-quickchart {\n",
              "      --bg-color: #3B4455;\n",
              "      --fill-color: #D2E3FC;\n",
              "      --hover-bg-color: #434B5C;\n",
              "      --hover-fill-color: #FFFFFF;\n",
              "      --disabled-bg-color: #3B4455;\n",
              "      --disabled-fill-color: #666;\n",
              "  }\n",
              "\n",
              "  .colab-df-quickchart {\n",
              "    background-color: var(--bg-color);\n",
              "    border: none;\n",
              "    border-radius: 50%;\n",
              "    cursor: pointer;\n",
              "    display: none;\n",
              "    fill: var(--fill-color);\n",
              "    height: 32px;\n",
              "    padding: 0;\n",
              "    width: 32px;\n",
              "  }\n",
              "\n",
              "  .colab-df-quickchart:hover {\n",
              "    background-color: var(--hover-bg-color);\n",
              "    box-shadow: 0 1px 2px rgba(60, 64, 67, 0.3), 0 1px 3px 1px rgba(60, 64, 67, 0.15);\n",
              "    fill: var(--button-hover-fill-color);\n",
              "  }\n",
              "\n",
              "  .colab-df-quickchart-complete:disabled,\n",
              "  .colab-df-quickchart-complete:disabled:hover {\n",
              "    background-color: var(--disabled-bg-color);\n",
              "    fill: var(--disabled-fill-color);\n",
              "    box-shadow: none;\n",
              "  }\n",
              "\n",
              "  .colab-df-spinner {\n",
              "    border: 2px solid var(--fill-color);\n",
              "    border-color: transparent;\n",
              "    border-bottom-color: var(--fill-color);\n",
              "    animation:\n",
              "      spin 1s steps(1) infinite;\n",
              "  }\n",
              "\n",
              "  @keyframes spin {\n",
              "    0% {\n",
              "      border-color: transparent;\n",
              "      border-bottom-color: var(--fill-color);\n",
              "      border-left-color: var(--fill-color);\n",
              "    }\n",
              "    20% {\n",
              "      border-color: transparent;\n",
              "      border-left-color: var(--fill-color);\n",
              "      border-top-color: var(--fill-color);\n",
              "    }\n",
              "    30% {\n",
              "      border-color: transparent;\n",
              "      border-left-color: var(--fill-color);\n",
              "      border-top-color: var(--fill-color);\n",
              "      border-right-color: var(--fill-color);\n",
              "    }\n",
              "    40% {\n",
              "      border-color: transparent;\n",
              "      border-right-color: var(--fill-color);\n",
              "      border-top-color: var(--fill-color);\n",
              "    }\n",
              "    60% {\n",
              "      border-color: transparent;\n",
              "      border-right-color: var(--fill-color);\n",
              "    }\n",
              "    80% {\n",
              "      border-color: transparent;\n",
              "      border-right-color: var(--fill-color);\n",
              "      border-bottom-color: var(--fill-color);\n",
              "    }\n",
              "    90% {\n",
              "      border-color: transparent;\n",
              "      border-bottom-color: var(--fill-color);\n",
              "    }\n",
              "  }\n",
              "</style>\n",
              "\n",
              "  <script>\n",
              "    async function quickchart(key) {\n",
              "      const quickchartButtonEl =\n",
              "        document.querySelector('#' + key + ' button');\n",
              "      quickchartButtonEl.disabled = true;  // To prevent multiple clicks.\n",
              "      quickchartButtonEl.classList.add('colab-df-spinner');\n",
              "      try {\n",
              "        const charts = await google.colab.kernel.invokeFunction(\n",
              "            'suggestCharts', [key], {});\n",
              "      } catch (error) {\n",
              "        console.error('Error during call to suggestCharts:', error);\n",
              "      }\n",
              "      quickchartButtonEl.classList.remove('colab-df-spinner');\n",
              "      quickchartButtonEl.classList.add('colab-df-quickchart-complete');\n",
              "    }\n",
              "    (() => {\n",
              "      let quickchartButtonEl =\n",
              "        document.querySelector('#df-21f8ff30-5086-4ed4-bf67-e98994d17628 button');\n",
              "      quickchartButtonEl.style.display =\n",
              "        google.colab.kernel.accessAllowed ? 'block' : 'none';\n",
              "    })();\n",
              "  </script>\n",
              "</div>\n",
              "\n",
              "    </div>\n",
              "  </div>\n"
            ],
            "application/vnd.google.colaboratory.intrinsic+json": {
              "type": "dataframe",
              "variable_name": "df",
              "summary": "{\n  \"name\": \"df\",\n  \"rows\": 6684,\n  \"fields\": [\n    {\n      \"column\": \"Age\",\n      \"properties\": {\n        \"dtype\": \"number\",\n        \"std\": 7.5959944227937894,\n        \"min\": 21.0,\n        \"max\": 62.0,\n        \"num_unique_values\": 41,\n        \"samples\": [\n          24.0,\n          27.0,\n          26.0\n        ],\n        \"semantic_type\": \"\",\n        \"description\": \"\"\n      }\n    },\n    {\n      \"column\": \"Gender\",\n      \"properties\": {\n        \"dtype\": \"category\",\n        \"num_unique_values\": 2,\n        \"samples\": [\n          \"Female\",\n          \"Male\"\n        ],\n        \"semantic_type\": \"\",\n        \"description\": \"\"\n      }\n    },\n    {\n      \"column\": \"Education Level\",\n      \"properties\": {\n        \"dtype\": \"category\",\n        \"num_unique_values\": 7,\n        \"samples\": [\n          \"Bachelor's\",\n          \"Master's\"\n        ],\n        \"semantic_type\": \"\",\n        \"description\": \"\"\n      }\n    },\n    {\n      \"column\": \"Job Title\",\n      \"properties\": {\n        \"dtype\": \"category\",\n        \"num_unique_values\": 191,\n        \"samples\": [\n          \"Senior Human Resources Specialist\",\n          \"Junior Account Manager\"\n        ],\n        \"semantic_type\": \"\",\n        \"description\": \"\"\n      }\n    },\n    {\n      \"column\": \"Years of Experience\",\n      \"properties\": {\n        \"dtype\": \"number\",\n        \"std\": 6.029304874867882,\n        \"min\": 0.0,\n        \"max\": 34.0,\n        \"num_unique_values\": 37,\n        \"samples\": [\n          9.0,\n          16.0\n        ],\n        \"semantic_type\": \"\",\n        \"description\": \"\"\n      }\n    },\n    {\n      \"column\": \"Salary\",\n      \"properties\": {\n        \"dtype\": \"number\",\n        \"std\": 52806.81088115085,\n        \"min\": 350.0,\n        \"max\": 250000.0,\n        \"num_unique_values\": 437,\n        \"samples\": [\n          117000.0,\n          181714.0\n        ],\n        \"semantic_type\": \"\",\n        \"description\": \"\"\n      }\n    }\n  ]\n}"
            }
          },
          "metadata": {},
          "execution_count": 11
        }
      ]
    },
    {
      "cell_type": "code",
      "source": [],
      "metadata": {
        "id": "tWXDXUnVbeGd"
      },
      "execution_count": 11,
      "outputs": []
    }
  ]
}