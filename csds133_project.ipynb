{
  "nbformat": 4,
  "nbformat_minor": 0,
  "metadata": {
    "colab": {
      "provenance": [],
      "authorship_tag": "ABX9TyP9P9in9Qaylp5pbK++B93Y",
      "include_colab_link": true
    },
    "kernelspec": {
      "name": "python3",
      "display_name": "Python 3"
    },
    "language_info": {
      "name": "python"
    }
  },
  "cells": [
    {
      "cell_type": "markdown",
      "metadata": {
        "id": "view-in-github",
        "colab_type": "text"
      },
      "source": [
        "<a href=\"https://colab.research.google.com/github/zelaneroz/cwru-csds-coursework/blob/main/csds133_project.ipynb\" target=\"_parent\"><img src=\"https://colab.research.google.com/assets/colab-badge.svg\" alt=\"Open In Colab\"/></a>"
      ]
    },
    {
      "cell_type": "code",
      "execution_count": 1,
      "metadata": {
        "colab": {
          "base_uri": "https://localhost:8080/"
        },
        "id": "aFBhjSo0R_O6",
        "outputId": "06cf936b-21d0-4941-a905-c5ac079aa364"
      },
      "outputs": [
        {
          "output_type": "stream",
          "name": "stdout",
          "text": [
            "Downloading from https://www.kaggle.com/api/v1/datasets/download/mohithsairamreddy/salary-data?dataset_version_number=4...\n"
          ]
        },
        {
          "output_type": "stream",
          "name": "stderr",
          "text": [
            "100%|██████████| 16.6k/16.6k [00:00<00:00, 7.45MB/s]"
          ]
        },
        {
          "output_type": "stream",
          "name": "stdout",
          "text": [
            "Extracting files...\n",
            "Path to dataset files: /root/.cache/kagglehub/datasets/mohithsairamreddy/salary-data/versions/4\n"
          ]
        },
        {
          "output_type": "stream",
          "name": "stderr",
          "text": [
            "\n"
          ]
        }
      ],
      "source": [
        "import kagglehub\n",
        "\n",
        "# Download latest version\n",
        "path = kagglehub.dataset_download(\"mohithsairamreddy/salary-data\")\n",
        "\n",
        "print(\"Path to dataset files:\", path)"
      ]
    },
    {
      "cell_type": "code",
      "source": [
        "import pandas as pd\n",
        "import os\n",
        "import numpy as np\n",
        "import matplotlib.pyplot as plt\n",
        "import seaborn as sns"
      ],
      "metadata": {
        "id": "TQ2pTxFbTsBn"
      },
      "execution_count": 2,
      "outputs": []
    },
    {
      "cell_type": "code",
      "source": [
        "files = os.listdir(path)\n",
        "csv_file = [f for f in files if f.endswith('.csv')][0]  # Finds the first CSV file\n",
        "csv_path = os.path.join(path, csv_file)\n",
        "df = pd.read_csv(csv_path)"
      ],
      "metadata": {
        "id": "L1Jl92R7T0ec"
      },
      "execution_count": 3,
      "outputs": []
    },
    {
      "cell_type": "markdown",
      "source": [
        "# I. Data Exploration"
      ],
      "metadata": {
        "id": "PA8uslLeT6Cv"
      }
    },
    {
      "cell_type": "code",
      "source": [
        "import pandas as pd\n",
        "\n",
        "# Load dataset (update with actual file path)\n",
        "# 1️⃣ Check the first few rows\n",
        "print(\"📌 First 5 Rows:\")\n",
        "print(df.head(), \"\\n\")\n",
        "\n",
        "# 2️⃣ Check the number of rows and columns\n",
        "print(\"📌 Shape of the dataset (rows, columns):\", df.shape, \"\\n\")\n",
        "\n",
        "# 3️⃣ Get column names\n",
        "print(\"📌 Column Names:\")\n",
        "print(df.columns, \"\\n\")\n",
        "\n",
        "# 4️⃣ Get basic info about dataset (data types, non-null counts, memory usage)\n",
        "print(\"📌 Dataset Information:\")\n",
        "print(df.info(), \"\\n\")\n",
        "\n",
        "# 5️⃣ Check for missing values\n",
        "print(\"📌 Missing Values Per Column:\")\n",
        "print(df.isnull().sum(), \"\\n\")\n",
        "\n",
        "# 6️⃣ Count completely empty rows\n",
        "print(\"📌 Number of Fully Empty Rows:\", df.isnull().all(axis=1).sum(), \"\\n\")\n",
        "\n",
        "# 7️⃣ Summary statistics for numerical columns\n",
        "print(\"📌 Summary Statistics for Numerical Columns:\")\n",
        "print(df.describe(), \"\\n\")\n",
        "\n",
        "# 8️⃣ Summary statistics for categorical columns\n",
        "print(\"📌 Summary Statistics for Categorical Columns:\")\n",
        "print(df.describe(include=['object']), \"\\n\")\n",
        "\n",
        "# 9️⃣ Check unique values in categorical columns (adjust column names as needed)\n",
        "categorical_cols = ['Gender', 'Education Level', 'Job Title']  # Adjust these column names as necessary\n",
        "for col in categorical_cols:\n",
        "    if col in df.columns:\n",
        "        print(f\"📌 Unique values in '{col}':\")\n",
        "        print(df[col].value_counts(), \"\\n\")"
      ],
      "metadata": {
        "id": "WyeKVZTsT6_X",
        "colab": {
          "base_uri": "https://localhost:8080/"
        },
        "outputId": "b77abbf6-9936-48a9-bc8f-31825940f9a1"
      },
      "execution_count": 5,
      "outputs": [
        {
          "output_type": "stream",
          "name": "stdout",
          "text": [
            "📌 First 5 Rows:\n",
            "    Age  Gender Education Level          Job Title  Years of Experience  \\\n",
            "0  32.0    Male      Bachelor's  Software Engineer                  5.0   \n",
            "1  28.0  Female        Master's       Data Analyst                  3.0   \n",
            "2  45.0    Male             PhD     Senior Manager                 15.0   \n",
            "3  36.0  Female      Bachelor's    Sales Associate                  7.0   \n",
            "4  52.0    Male        Master's           Director                 20.0   \n",
            "\n",
            "     Salary  \n",
            "0   90000.0  \n",
            "1   65000.0  \n",
            "2  150000.0  \n",
            "3   60000.0  \n",
            "4  200000.0   \n",
            "\n",
            "📌 Shape of the dataset (rows, columns): (6704, 6) \n",
            "\n",
            "📌 Column Names:\n",
            "Index(['Age', 'Gender', 'Education Level', 'Job Title', 'Years of Experience',\n",
            "       'Salary'],\n",
            "      dtype='object') \n",
            "\n",
            "📌 Dataset Information:\n",
            "<class 'pandas.core.frame.DataFrame'>\n",
            "RangeIndex: 6704 entries, 0 to 6703\n",
            "Data columns (total 6 columns):\n",
            " #   Column               Non-Null Count  Dtype  \n",
            "---  ------               --------------  -----  \n",
            " 0   Age                  6702 non-null   float64\n",
            " 1   Gender               6702 non-null   object \n",
            " 2   Education Level      6701 non-null   object \n",
            " 3   Job Title            6702 non-null   object \n",
            " 4   Years of Experience  6701 non-null   float64\n",
            " 5   Salary               6699 non-null   float64\n",
            "dtypes: float64(3), object(3)\n",
            "memory usage: 314.4+ KB\n",
            "None \n",
            "\n",
            "📌 Missing Values Per Column:\n",
            "Age                    2\n",
            "Gender                 2\n",
            "Education Level        3\n",
            "Job Title              2\n",
            "Years of Experience    3\n",
            "Salary                 5\n",
            "dtype: int64 \n",
            "\n",
            "📌 Number of Fully Empty Rows: 2 \n",
            "\n",
            "📌 Summary Statistics for Numerical Columns:\n",
            "               Age  Years of Experience         Salary\n",
            "count  6702.000000          6701.000000    6699.000000\n",
            "mean     33.620859             8.094687  115326.964771\n",
            "std       7.614633             6.059003   52786.183911\n",
            "min      21.000000             0.000000     350.000000\n",
            "25%      28.000000             3.000000   70000.000000\n",
            "50%      32.000000             7.000000  115000.000000\n",
            "75%      38.000000            12.000000  160000.000000\n",
            "max      62.000000            34.000000  250000.000000 \n",
            "\n",
            "📌 Summary Statistics for Categorical Columns:\n",
            "       Gender    Education Level          Job Title\n",
            "count    6702               6701               6702\n",
            "unique      3                  7                193\n",
            "top      Male  Bachelor's Degree  Software Engineer\n",
            "freq     3674               2267                518 \n",
            "\n",
            "📌 Unique values in 'Gender':\n",
            "Gender\n",
            "Male      3674\n",
            "Female    3014\n",
            "Other       14\n",
            "Name: count, dtype: int64 \n",
            "\n",
            "📌 Unique values in 'Education Level':\n",
            "Education Level\n",
            "Bachelor's Degree    2267\n",
            "Master's Degree      1573\n",
            "PhD                  1368\n",
            "Bachelor's            756\n",
            "High School           448\n",
            "Master's              288\n",
            "phD                     1\n",
            "Name: count, dtype: int64 \n",
            "\n",
            "📌 Unique values in 'Job Title':\n",
            "Job Title\n",
            "Software Engineer                 518\n",
            "Data Scientist                    453\n",
            "Software Engineer Manager         376\n",
            "Data Analyst                      363\n",
            "Senior Project Engineer           318\n",
            "                                 ... \n",
            "Junior Social Media Specialist      1\n",
            "Senior Software Architect           1\n",
            "Developer                           1\n",
            "Social M                            1\n",
            "Social Media Man                    1\n",
            "Name: count, Length: 193, dtype: int64 \n",
            "\n"
          ]
        }
      ]
    },
    {
      "cell_type": "code",
      "source": [],
      "metadata": {
        "id": "0w2SMEzrWOVb"
      },
      "execution_count": null,
      "outputs": []
    }
  ]
}